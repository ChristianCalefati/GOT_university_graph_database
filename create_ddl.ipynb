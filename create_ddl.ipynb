{
 "cells": [
  {
   "cell_type": "code",
   "execution_count": 99,
   "outputs": [],
   "source": [
    "#This code creates the DDL.cypher file populating the graph with Student and Professor nodes\n",
    "import pandas as pd\n",
    "student_df = pd.read_csv(\"data\\\\student.csv\")\n",
    "professor_df = pd.read_csv(\"data\\\\professor.csv\")\n",
    "bookings_df = pd.read_csv(\"data\\\\bookings.csv\")\n",
    "\n",
    "#function for deleting all the nodes in the graph.\n",
    "def delete_all_nodes(file):\n",
    "    comment = \"//CLEANING UP THE GRAPH\\n\"\n",
    "    s = \"MATCH (n) DETACH DELETE\\n\\n\"\n",
    "    file.write(comment + s)\n",
    "\n",
    "\n",
    "\n",
    "with open(\"cypher\\\\DDL.cypher\", mode='w') as record:\n",
    "    delete_all_nodes(record)\n",
    "    comment = r'''//CREATING STUDENTS NODES''' + \"\\n\"\n",
    "    record.write(comment)\n",
    "    for index in range(len(student_df)):\n",
    "        s = \"CREATE (:Student{\"\\\n",
    "            + \"id:{0}, \".format(student_df.at[index, \"id\"])\\\n",
    "            + \"first_name:'{0}', \".format(student_df.at[index, \"first_name\"])\\\n",
    "            + \"last_name:'{0}', \".format(student_df.at[index, \"last_name\"])\\\n",
    "            + \"birth_date: date('0{0}'), \".format(student_df.at[index, \"birth_date\"])\\\n",
    "            + \"city:'{0}', \".format(student_df.at[index, \"city\"])\\\n",
    "            + \"subscription_year:{0}\".format(student_df.at[index, \"subscription_year\"])\\\n",
    "            + \"})\\n\"\n",
    "        record.write(s)\n",
    "\n",
    "    record.write(\"\\n\\n\")\n",
    "    comment = r'''//CREATING PROFESSORS NODES''' + \"\\n\"\n",
    "    record.write(comment)\n",
    "    for index in range(len(professor_df)):\n",
    "        s = \"CREATE (:Professor{\"\\\n",
    "            + \"id:{}, \".format(professor_df.at[index, \"id\"])\\\n",
    "            + \"first_name:'{}', \".format(professor_df.at[index, \"first_name\"])\\\n",
    "            + \"last_name:'{}'\".format(professor_df.at[index, \"last_name\"])\\\n",
    "            + \"})\\n\"\n",
    "        record.write(s)"
   ],
   "metadata": {
    "collapsed": false,
    "pycharm": {
     "name": "#%%\n"
    }
   }
  }
 ],
 "metadata": {
  "kernelspec": {
   "display_name": "Python 3",
   "language": "python",
   "name": "python3"
  },
  "language_info": {
   "codemirror_mode": {
    "name": "ipython",
    "version": 2
   },
   "file_extension": ".py",
   "mimetype": "text/x-python",
   "name": "python",
   "nbconvert_exporter": "python",
   "pygments_lexer": "ipython2",
   "version": "2.7.6"
  }
 },
 "nbformat": 4,
 "nbformat_minor": 0
}